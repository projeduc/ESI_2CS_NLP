{
 "cells": [
  {
   "cell_type": "markdown",
   "id": "87f7f433",
   "metadata": {},
   "source": [
    "# Text preprocessing using OpenNLP\n",
    "\n",
    "Downloading the api from maven repository may take some time. \n",
    "You can find models in this link: https://opennlp.apache.org/models.html \n",
    "Sourceforge models can be downloaded here: http://opennlp.sourceforge.net/models-1.5/"
   ]
  },
  {
   "cell_type": "code",
   "execution_count": 1,
   "id": "1927a165",
   "metadata": {},
   "outputs": [],
   "source": [
    "%%pom\n",
    "dependencies:\n",
    "    - org.apache.opennlp:opennlp-tools:2.3.0\n",
    "\n",
    "#you can use this with maven\n",
    "#<dependency>\n",
    "#    <groupId>org.apache.opennlp</groupId>\n",
    "#    <artifactId>opennlp-tools</artifactId>\n",
    "#    <version>1.9.3</version>\n",
    "#</dependency>"
   ]
  },
  {
   "cell_type": "markdown",
   "id": "9a1b72c2",
   "metadata": {},
   "source": [
    "## I. Language detection\n",
    "\n",
    "### I.1. Detection using a trained model\n",
    "Here, we will use **langdetect** model found in https://opennlp.apache.org/models.html "
   ]
  },
  {
   "cell_type": "code",
   "execution_count": 2,
   "id": "399fa0dd",
   "metadata": {},
   "outputs": [
    {
     "name": "stdout",
     "output_type": "stream",
     "text": [
      "----------------------------------------------------\n",
      "A computer is a machine that can be programmed to carry out sequences of arithmetic or logical operations automatically.\n",
      "Best language: eng\n",
      "Best language confidence: 0.13386670528129135\n",
      "----------------------------------------------------\n",
      "Un ordinateur est un système de traitement de l'information programmable tel que défini par Alan Turing et qui fonctionne par la lecture séquentielle d'un ensemble d'instructions.\n",
      "Best language: fra\n",
      "Best language confidence: 0.3152233825312168\n",
      "----------------------------------------------------\n",
      "La computadora también denominada computador​ u ordenador es una máquina digital programable que ejecuta una serie de comandos para procesar los datos de entrada, obteniendo convenientemente información que posteriormente se envía a las unidades de salida.\n",
      "Best language: spa\n",
      "Best language confidence: 0.43167282617777597\n",
      "----------------------------------------------------\n",
      "الحَاسُوب هو آلة إلكترونية لها قابلية استقبال البيانات ومعالجتها إلى معلومات ذات قيمة.\n",
      "Best language: ara\n",
      "Best language confidence: 0.09672794809617373\n",
      "----------------------------------------------------\n",
      "رایانِه یا کامپیوتِر دستگاهی الکترونیک است که می‌تواند برنامه‌ریزی شود تا دستور های ریاضیاتی و منطقی را به‌صورت خودکاره از طریق برنامه‌نویسی انجام دهد.\n",
      "Best language: pes\n",
      "Best language confidence: 0.2786595136074609\n",
      "----------------------------------------------------\n",
      "コンピュータは、主にトランジスタを含む電子回路を応用し、数値計算、情報処理、データ処理、文書作成、動画編集、遊戯など、複雑な（広義の）計算を高速、大量におこなうことを目的として開発された機械である。\n",
      "Best language: jpn\n",
      "Best language confidence: 0.06342847784673085\n",
      "----------------------------------------------------\n",
      "电子计算机是利用数字电子技术，根据一系列指令指示並且自动执行任意算术或逻辑操作序列的设备。\n",
      "Best language: cmn\n",
      "Best language confidence: 0.028383704387085283\n"
     ]
    }
   ],
   "source": [
    "%%java\n",
    "import java.io.*;\n",
    "import opennlp.tools.langdetect.*;\n",
    "\n",
    "String[] texts = new String[]{\n",
    "    \"A computer is a machine that can be programmed to carry out sequences of arithmetic or logical operations automatically.\",\n",
    "    \"Un ordinateur est un système de traitement de l'information programmable tel que défini par Alan Turing et qui fonctionne par la lecture séquentielle d'un ensemble d'instructions.\",\n",
    "    \"La computadora también denominada computador​ u ordenador es una máquina digital programable que ejecuta una serie de comandos para procesar los datos de entrada, obteniendo convenientemente información que posteriormente se envía a las unidades de salida.\",\n",
    "    \"الحَاسُوب هو آلة إلكترونية لها قابلية استقبال البيانات ومعالجتها إلى معلومات ذات قيمة.\",\n",
    "    \"رایانِه یا کامپیوتِر دستگاهی الکترونیک است که می‌تواند برنامه‌ریزی شود تا دستور های ریاضیاتی و منطقی را به‌صورت خودکاره از طریق برنامه‌نویسی انجام دهد.\",\n",
    "    \"コンピュータは、主にトランジスタを含む電子回路を応用し、数値計算、情報処理、データ処理、文書作成、動画編集、遊戯など、複雑な（広義の）計算を高速、大量におこなうことを目的として開発された機械である。\",\n",
    "    \"电子计算机是利用数字电子技术，根据一系列指令指示並且自动执行任意算术或逻辑操作序列的设备。\",\n",
    "};\n",
    "//english, french, spanish, arabic, persian, japanese, chinese\n",
    "    \n",
    "try{\n",
    "    InputStream modelIn = new FileInputStream(\"/home/kariminf/Data/OpenNLP/langdetect-183.bin\");\n",
    "    LanguageDetectorModel model = new LanguageDetectorModel(modelIn);\n",
    "    LanguageDetectorME detecter = new LanguageDetectorME(model);\n",
    "    for (String text: texts){\n",
    "        System.out.println(\"----------------------------------------------------\");\n",
    "        System.out.println(text);\n",
    "        Language bestLanguage = detecter.predictLanguage(text);\n",
    "        System.out.println(\"Best language: \" + bestLanguage.getLang());\n",
    "        System.out.println(\"Best language confidence: \" + bestLanguage.getConfidence());\n",
    "    }\n",
    "}\n",
    "catch(IOException e){\n",
    "    System.out.println(\"Model not found!\");\n",
    "}"
   ]
  },
  {
   "cell_type": "markdown",
   "id": "cdba56b1",
   "metadata": {},
   "source": [
    "### I.2. Training a model\n",
    "Let's build a model to detect numeral systems: binary (BIN), Decimal (DEC) and Hexadecimal (HEX). In the training file, each line contains an exemple of a language starting with the language code followed by a tabulation followed by the example."
   ]
  },
  {
   "cell_type": "code",
   "execution_count": 3,
   "id": "7bf60a5c",
   "metadata": {},
   "outputs": [],
   "source": [
    "%%java\n",
    "import java.io.*;\n",
    "import opennlp.tools.langdetect.*;\n",
    "import opennlp.tools.util.*;\n",
    "import java.nio.charset.StandardCharsets;\n",
    "import opennlp.tools.util.model.ModelUtil;\n",
    "\n",
    "// Read file with greetings in many languages\n",
    "InputStreamFactory inputStreamFactory = new MarkableFileInputStreamFactory(new File(\"num.txt\"));\n",
    "ObjectStream<String> lineStream = new PlainTextByLineStream(inputStreamFactory, StandardCharsets.UTF_8);\n",
    "ObjectStream<LanguageSample> sampleStream = new LanguageDetectorSampleStream(lineStream);\n",
    " \n",
    "// Train a model from the greetings with many languages.\n",
    "LanguageDetectorModel model = LanguageDetectorME.train(sampleStream,\n",
    "    ModelUtil.createDefaultTrainingParameters(), new LanguageDetectorFactory());\n",
    " \n",
    "// Serialize model to some file so that next time we don't have to again train a\n",
    "// model. Next time We can just load this file directly into model.\n",
    "//model.serialize(new File(\"num.bin\"));"
   ]
  },
  {
   "cell_type": "markdown",
   "id": "0488594d",
   "metadata": {},
   "source": [
    "## II. Sentence boundary detection\n",
    "\n",
    "### II.1. Detection using a model\n",
    "\n",
    "Here, we will use English sentence detection model found in https://opennlp.apache.org/models.html "
   ]
  },
  {
   "cell_type": "code",
   "execution_count": 4,
   "id": "85507d11",
   "metadata": {},
   "outputs": [
    {
     "name": "stdout",
     "output_type": "stream",
     "text": [
      "This is a text written by Mr. Aries.\n",
      "It uses U.S. english to illustrate sentence tokenization.\n"
     ]
    }
   ],
   "source": [
    "%%java\n",
    "import java.io.*;\n",
    "import opennlp.tools.sentdetect.*;\n",
    "\n",
    "String text = \"This is a text written by Mr. Aries. It uses U.S. english to illustrate sentence tokenization.\";\n",
    "    \n",
    "try{\n",
    "    InputStream modelIn = new FileInputStream(\"/home/kariminf/Data/OpenNLP/opennlp-en-ud-ewt-sentence-1.0-1.9.3.bin\");\n",
    "    SentenceModel model = new SentenceModel(modelIn);\n",
    "    SentenceDetectorME detecter = new SentenceDetectorME(model);\n",
    "    String sentences[] = detecter.sentDetect(text);\n",
    "    for (String sentence: sentences){\n",
    "        System.out.println(sentence);\n",
    "    }\n",
    "    \n",
    "}\n",
    "catch(IOException e){\n",
    "    System.out.println(\"Model not found!\");\n",
    "}"
   ]
  },
  {
   "cell_type": "markdown",
   "id": "4e9a7524",
   "metadata": {},
   "source": [
    "### II.2. Training a model\n",
    "Let's build a model to detect sentences boundaries. In the training file, each line represents a sentence."
   ]
  },
  {
   "cell_type": "code",
   "execution_count": 5,
   "id": "f609b45c",
   "metadata": {},
   "outputs": [
    {
     "name": "stderr",
     "output_type": "stream",
     "text": [
      "jdk.jshell.EvalException: Training data must contain more than one outcome\n",
      "\tat opennlp.tools.ml.AbstractEventTrainer.train(AbstractEventTrainer.java:76)\n",
      "\tat opennlp.tools.ml.AbstractEventTrainer.train(AbstractEventTrainer.java:92)\n",
      "\tat opennlp.tools.sentdetect.SentenceDetectorME.train(SentenceDetectorME.java:337)\n",
      "\tat opennlp.tools.sentdetect.SentenceDetectorME.train(SentenceDetectorME.java:322)\n",
      "\tat .(#42:1)\n"
     ]
    }
   ],
   "source": [
    "%%java\n",
    "import java.io.*;\n",
    "import opennlp.tools.sentdetect.*;\n",
    "import opennlp.tools.util.*;\n",
    "import java.nio.charset.StandardCharsets;\n",
    "\n",
    "// read the sentences file\n",
    "InputStreamFactory inputStreamFactory = new MarkableFileInputStreamFactory(new File(\"en-sent.txt\"));\n",
    "ObjectStream<String> lineStream = new PlainTextByLineStream(inputStreamFactory, StandardCharsets.UTF_8);\n",
    "\n",
    "SentenceModel model;\n",
    "\n",
    "try (ObjectStream<SentenceSample> sampleStream = new SentenceSampleStream(lineStream)) {\n",
    "  model = SentenceDetectorME.train(\"en\", sampleStream, true, null, TrainingParameters.defaultParams());\n",
    "}\n",
    "\n",
    "\n",
    "try (OutputStream modelOut = new BufferedOutputStream(new FileOutputStream(\"en-detect.bin\"))) {\n",
    "  model.serialize(modelOut);\n",
    "}\n",
    "\n",
    "//TODO fix"
   ]
  },
  {
   "cell_type": "markdown",
   "id": "4bcd4b57",
   "metadata": {},
   "source": [
    "## III. Word tokenization\n",
    "Here, we will use English words tokenization model found in https://opennlp.apache.org/models.html "
   ]
  },
  {
   "cell_type": "code",
   "execution_count": 6,
   "id": "99807e7a",
   "metadata": {},
   "outputs": [
    {
     "name": "stdout",
     "output_type": "stream",
     "text": [
      "This | is | a | text | written | by | Mr. | Aries | . | It | uses | U.S. | english | to | illustrate | sentence | tokenization | . | "
     ]
    }
   ],
   "source": [
    "%%java\n",
    "import java.io.*;\n",
    "import opennlp.tools.tokenize.*;\n",
    "\n",
    "String text = \"This is a text written by Mr. Aries. It uses U.S. english to illustrate sentence tokenization.\";\n",
    "    \n",
    "try{\n",
    "    InputStream modelIn = new FileInputStream(\"/home/kariminf/Data/OpenNLP/opennlp-en-ud-ewt-tokens-1.0-1.9.3.bin\");\n",
    "    TokenizerModel model = new TokenizerModel(modelIn);\n",
    "    Tokenizer tokenizer = new TokenizerME(model);\n",
    "    String words[] = tokenizer.tokenize(text);\n",
    "    for (String word: words){\n",
    "        System.out.print(word + \" | \");\n",
    "    }\n",
    "    \n",
    "}\n",
    "catch(IOException e){\n",
    "    System.out.println(\"Model not found!\");\n",
    "}"
   ]
  },
  {
   "cell_type": "code",
   "execution_count": null,
   "id": "4f14e15e",
   "metadata": {},
   "outputs": [],
   "source": [
    "## IV. Word tokenization\n",
    "Here, we will use English words tokenization model found in https://opennlp.apache.org/models.html "
   ]
  }
 ],
 "metadata": {
  "kernelspec": {
   "display_name": "Ganymede 2.1.2 (Java 19)",
   "language": "java",
   "name": "ganymede-2.1.2-java-19"
  },
  "language_info": {
   "file_extension": ".java",
   "mimetype": "text/x-java",
   "name": "java",
   "version": "11"
  }
 },
 "nbformat": 4,
 "nbformat_minor": 5
}
