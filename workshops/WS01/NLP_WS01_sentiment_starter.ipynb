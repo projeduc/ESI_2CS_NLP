{
 "cells": [
  {
   "cell_type": "markdown",
   "id": "c09c391d",
   "metadata": {},
   "source": [
    "# Workshop 01: Sentiment analysis"
   ]
  },
  {
   "cell_type": "code",
   "execution_count": null,
   "id": "d8e1db3e",
   "metadata": {},
   "outputs": [],
   "source": [
    "import nltk\n",
    "import numpy  as np\n",
    "import pandas as pd\n",
    "from sklearn.metrics                 import classification_report\n",
    "from sklearn.preprocessing           import LabelBinarizer\n",
    "from sklearn.neural_network          import MLPClassifier\n",
    "from sklearn.model_selection         import train_test_split\n",
    "from sklearn.feature_extraction.text import CountVectorizer\n",
    "from gensim.models                   import Word2Vec, FastText\n",
    "\n",
    "import re\n",
    "token_pattern = re.compile(r'(?u)\\b\\w\\w+\\b')\n",
    "tokenizer = token_pattern.findall"
   ]
  },
  {
   "cell_type": "code",
   "execution_count": null,
   "id": "4287a36a",
   "metadata": {},
   "outputs": [],
   "source": [
    "import tensorflow as tf\n",
    "from tensorflow import keras\n",
    "from tensorflow.keras.layers import Input, Dense, Lambda\n",
    "from tensorflow.keras.models import Sequential, Model\n",
    "\n",
    "from sklearn.naive_bayes import MultinomialNB"
   ]
  },
  {
   "cell_type": "markdown",
   "id": "e3c77ad7",
   "metadata": {},
   "source": [
    "## 1. Data preparation"
   ]
  },
  {
   "cell_type": "code",
   "execution_count": null,
   "id": "cdcc8a10",
   "metadata": {},
   "outputs": [],
   "source": []
  },
  {
   "cell_type": "markdown",
   "id": "9f952f98",
   "metadata": {},
   "source": [
    "### 1.1. TF encoding"
   ]
  },
  {
   "cell_type": "code",
   "execution_count": null,
   "id": "211c891d",
   "metadata": {},
   "outputs": [],
   "source": []
  },
  {
   "cell_type": "markdown",
   "id": "d239e46b",
   "metadata": {},
   "source": [
    "### 1.2. Embedding encoding"
   ]
  },
  {
   "cell_type": "code",
   "execution_count": null,
   "id": "96cfbfd6",
   "metadata": {},
   "outputs": [],
   "source": []
  },
  {
   "cell_type": "markdown",
   "id": "b2e44281",
   "metadata": {},
   "source": [
    "## 2. Training models"
   ]
  },
  {
   "cell_type": "markdown",
   "id": "5c35c965",
   "metadata": {},
   "source": [
    "### 2.1. TF-based models"
   ]
  },
  {
   "cell_type": "code",
   "execution_count": null,
   "id": "78ab7e94",
   "metadata": {},
   "outputs": [],
   "source": []
  },
  {
   "cell_type": "markdown",
   "id": "8ef93deb",
   "metadata": {},
   "source": [
    "### 2.2. Victor-based models"
   ]
  },
  {
   "cell_type": "code",
   "execution_count": null,
   "id": "07013282",
   "metadata": {},
   "outputs": [],
   "source": []
  },
  {
   "cell_type": "markdown",
   "id": "59ed04fd",
   "metadata": {},
   "source": [
    "## 3. Testing models"
   ]
  },
  {
   "cell_type": "code",
   "execution_count": null,
   "id": "0184f858",
   "metadata": {},
   "outputs": [],
   "source": []
  },
  {
   "cell_type": "code",
   "execution_count": null,
   "id": "5b56bc25",
   "metadata": {},
   "outputs": [],
   "source": []
  }
 ],
 "metadata": {
  "kernelspec": {
   "display_name": "Python 3 (ipykernel)",
   "language": "python",
   "name": "python3"
  },
  "language_info": {
   "codemirror_mode": {
    "name": "ipython",
    "version": 3
   },
   "file_extension": ".py",
   "mimetype": "text/x-python",
   "name": "python",
   "nbconvert_exporter": "python",
   "pygments_lexer": "ipython3",
   "version": "3.10.6"
  }
 },
 "nbformat": 4,
 "nbformat_minor": 5
}
