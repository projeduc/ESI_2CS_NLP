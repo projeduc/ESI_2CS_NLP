{
 "cells": [
  {
   "cell_type": "markdown",
   "id": "2fbfa188",
   "metadata": {},
   "source": [
    "# Text preprocessing using Spacy\n",
    "\n",
    "In \"Spacy\", there are a model for each language; it has to be downloaded. To process a language, we have to load its model. The API works with pipes of tasks. By default, all pipes are loaded."
   ]
  },
  {
   "cell_type": "code",
   "execution_count": 1,
   "id": "ce88b4f2",
   "metadata": {},
   "outputs": [
    {
     "data": {
      "text/plain": [
       "['tok2vec', 'tagger', 'parser', 'attribute_ruler', 'lemmatizer', 'ner']"
      ]
     },
     "execution_count": 1,
     "metadata": {},
     "output_type": "execute_result"
    }
   ],
   "source": [
    "import spacy\n",
    "\n",
    "nlp = spacy.load(\"en_core_web_sm\")\n",
    "\n",
    "nlp.pipe_names"
   ]
  },
  {
   "cell_type": "code",
   "execution_count": 2,
   "id": "38ab14ef",
   "metadata": {},
   "outputs": [
    {
     "data": {
      "text/plain": [
       "[]"
      ]
     },
     "execution_count": 2,
     "metadata": {},
     "output_type": "execute_result"
    }
   ],
   "source": [
    "# to desable some pipes\n",
    "nlp.select_pipes(disable=['tok2vec', 'tagger', 'parser', 'attribute_ruler', 'lemmatizer', 'ner'])\n",
    "nlp.pipe_names"
   ]
  },
  {
   "cell_type": "markdown",
   "id": "ff77fe0c",
   "metadata": {},
   "source": [
    "## I. Sentence tokenization"
   ]
  },
  {
   "cell_type": "code",
   "execution_count": 3,
   "id": "ae6be86f",
   "metadata": {},
   "outputs": [
    {
     "data": {
      "text/plain": [
       "['This is a text written by Mr. Aries.',\n",
       " 'It uses U.S. english to illustrate sentence tokenization.']"
      ]
     },
     "execution_count": 3,
     "metadata": {},
     "output_type": "execute_result"
    }
   ],
   "source": [
    "text = 'This is a text written by Mr. Aries. It uses U.S. english to illustrate sentence tokenization.'\n",
    "\n",
    "nlp.add_pipe('sentencizer')\n",
    "\n",
    "doc = nlp(text)\n",
    "\n",
    "sents_list = []\n",
    "for sent in doc.sents:\n",
    "    sents_list.append(sent.text)\n",
    "\n",
    "sents_list"
   ]
  },
  {
   "cell_type": "markdown",
   "id": "9298b508",
   "metadata": {},
   "source": [
    "## II. Words tokenization\n",
    "\n",
    "It is automatic when calling **nlp(text)**."
   ]
  },
  {
   "cell_type": "code",
   "execution_count": 4,
   "id": "e88cb99b",
   "metadata": {},
   "outputs": [
    {
     "data": {
      "text/plain": [
       "['This',\n",
       " 'is',\n",
       " 'a',\n",
       " 'text',\n",
       " 'written',\n",
       " 'by',\n",
       " 'Mr.',\n",
       " 'Aries',\n",
       " '.',\n",
       " 'It',\n",
       " 'uses',\n",
       " 'U.S.',\n",
       " 'english',\n",
       " 'to',\n",
       " 'illustrate',\n",
       " 'sentence',\n",
       " 'tokenization',\n",
       " '.']"
      ]
     },
     "execution_count": 4,
     "metadata": {},
     "output_type": "execute_result"
    }
   ],
   "source": [
    "tokens = []\n",
    "for word in doc:\n",
    "    tokens.append(word.text)\n",
    "\n",
    "tokens"
   ]
  },
  {
   "cell_type": "markdown",
   "id": "b1a53181",
   "metadata": {},
   "source": [
    "## III. StopWords filtering"
   ]
  },
  {
   "cell_type": "code",
   "execution_count": 5,
   "id": "f5d10abb",
   "metadata": {},
   "outputs": [
    {
     "data": {
      "text/plain": [
       "['text',\n",
       " 'written',\n",
       " 'Mr.',\n",
       " 'Aries',\n",
       " '.',\n",
       " 'uses',\n",
       " 'U.S.',\n",
       " 'english',\n",
       " 'illustrate',\n",
       " 'sentence',\n",
       " 'tokenization',\n",
       " '.']"
      ]
     },
     "execution_count": 5,
     "metadata": {},
     "output_type": "execute_result"
    }
   ],
   "source": [
    "filtered_tokens = []\n",
    "for word in doc:\n",
    "    if word.is_stop==False:\n",
    "        filtered_tokens.append(word.text)\n",
    "\n",
    "filtered_tokens"
   ]
  },
  {
   "cell_type": "markdown",
   "id": "dc240e8a",
   "metadata": {},
   "source": [
    "## IV. Lemmatization"
   ]
  },
  {
   "cell_type": "code",
   "execution_count": 6,
   "id": "67295246",
   "metadata": {},
   "outputs": [
    {
     "name": "stdout",
     "output_type": "stream",
     "text": [
      "['tok2vec', 'tagger', 'attribute_ruler', 'lemmatizer', 'sentencizer']\n"
     ]
    },
    {
     "data": {
      "text/plain": [
       "[('This', 'this'),\n",
       " ('is', 'be'),\n",
       " ('a', 'a'),\n",
       " ('text', 'text'),\n",
       " ('written', 'write'),\n",
       " ('by', 'by'),\n",
       " ('Mr.', 'Mr.'),\n",
       " ('Aries', 'Aries'),\n",
       " ('.', '.'),\n",
       " ('It', 'it'),\n",
       " ('uses', 'use'),\n",
       " ('U.S.', 'U.S.'),\n",
       " ('english', 'english'),\n",
       " ('to', 'to'),\n",
       " ('illustrate', 'illustrate'),\n",
       " ('sentence', 'sentence'),\n",
       " ('tokenization', 'tokenization'),\n",
       " ('.', '.')]"
      ]
     },
     "execution_count": 6,
     "metadata": {},
     "output_type": "execute_result"
    }
   ],
   "source": [
    "text = 'This is a text written by Mr. Aries. It uses U.S. english to illustrate sentence tokenization.'\n",
    "\n",
    "#nlp.add_pipe('lemmatizer') # exists already\n",
    "nlp.enable_pipe('tagger')\n",
    "nlp.enable_pipe('tok2vec')# apparently it uses this as well\n",
    "nlp.enable_pipe('attribute_ruler')\n",
    "nlp.enable_pipe('lemmatizer') # lemmatizer must use tagger + attribute ruler OR morphologizer\n",
    "\n",
    "print(nlp.pipe_names)\n",
    "\n",
    "doc = nlp(text)\n",
    "\n",
    "lemmas_list = []\n",
    "for word in doc:\n",
    "    lemmas_list.append((word.text, word.lemma_))\n",
    "\n",
    "lemmas_list"
   ]
  }
 ],
 "metadata": {
  "kernelspec": {
   "display_name": "Python 3 (ipykernel)",
   "language": "python",
   "name": "python3"
  },
  "language_info": {
   "codemirror_mode": {
    "name": "ipython",
    "version": 3
   },
   "file_extension": ".py",
   "mimetype": "text/x-python",
   "name": "python",
   "nbconvert_exporter": "python",
   "pygments_lexer": "ipython3",
   "version": "3.8.10"
  }
 },
 "nbformat": 4,
 "nbformat_minor": 5
}
