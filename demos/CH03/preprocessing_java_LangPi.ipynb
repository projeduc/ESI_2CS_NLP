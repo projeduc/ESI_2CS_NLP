{
 "cells": [
  {
   "cell_type": "markdown",
   "id": "115f6181",
   "metadata": {},
   "source": [
    "# Text preprocessing using LangPi\n",
    "\n",
    "**The API needs more work**\n",
    "\n",
    "The preprocessing is located in \"karim.langpi.basic\".\n",
    "There are many sub-packages : arabic, chinese, finnish, hebrew, hindi, japanese, persian, spanish, basque, czech, \n",
    "french, hungarian,  korean, portuguese, bulgarian, dutch, german,  indonesian, norwegian, \n",
    "romanian,   swedish, catalan,   english, greek, italian, nynorsk, russian, thai, turkish.\n",
    "\n",
    "Each language afford these classes: Info, Normalizer, Segmenter, Stemmer, SWEliminator"
   ]
  },
  {
   "cell_type": "code",
   "execution_count": 1,
   "id": "ceaf9dda",
   "metadata": {},
   "outputs": [],
   "source": [
    "%%pom\n",
    "repositories:\n",
    "  - id: jitpack\n",
    "    layout: default\n",
    "    url: https://jitpack.io\n",
    "    snapshots:\n",
    "      enabled: false\n",
    "\n",
    "dependencies:\n",
    "    - com.github.kariminf:k-toolja:1.1.0\n",
    "    - com.github.kariminf:langpi:1.1.5\n",
    "        \n",
    "# downloading the module\n",
    "    \n",
    "#%maven com.github.kariminf:k-hebmorph:2.0.3 //for hebrew\n",
    "#%maven com.github.kariminf:k-jhazm:1.0.2 //for persian (farsi)\n",
    "#%maven com.github.kariminf:k-opennlp1.4:1.4.4 //for Thai segmentation\n",
    "    "
   ]
  },
  {
   "cell_type": "code",
   "execution_count": 2,
   "id": "8373744e",
   "metadata": {},
   "outputs": [],
   "source": [
    "%%pom\n",
    "dependencies:\n",
    "    - org.apache.lucene:lucene-core:4.10.2\n",
    "    - org.apache.lucene:lucene-analyzers-common:4.10.2\n",
    "    - org.apache.lucene:lucene-analyzers-kuromoji:4.10.2 # for japanese\n",
    "    - org.apache.opennlp:opennlp-maxent:3.0.2-incubating\n",
    "    - org.apache.opennlp:opennlp-tools:1.7.2\n",
    "\n",
    "\n",
    "# for chinese\n",
    "# org.apache.lucene:lucene-analyzers-smartcn:4.10.2\n"
   ]
  },
  {
   "cell_type": "code",
   "execution_count": 3,
   "id": "44a90504",
   "metadata": {},
   "outputs": [
    {
     "name": "stdout",
     "output_type": "stream",
     "text": [
      "-------------------------------------\n",
      "Code: ar\n",
      "English name: Arabic\n",
      "Original name: العربية\n",
      "-------------------------------------\n",
      "Code: en\n",
      "English name: English\n",
      "Original name: English\n",
      "-------------------------------------\n",
      "Code: fr\n",
      "English name: French\n",
      "Original name: français\n",
      "-------------------------------------\n",
      "Code: ja\n",
      "English name: Japanese\n",
      "Original name: 日本語\n"
     ]
    }
   ],
   "source": [
    "%%java\n",
    "import kariminf.langpi.basic.arabic.ArInfo;\n",
    "import kariminf.langpi.basic.english.EnInfo;\n",
    "import kariminf.langpi.basic.french.FrInfo;\n",
    "import kariminf.langpi.basic.japanese.JaInfo;\n",
    "import kariminf.langpi.basic.BasicInfo;\n",
    "\n",
    "\n",
    "BasicInfo[] infos = new BasicInfo[]{new ArInfo(), new EnInfo(), new FrInfo(), new JaInfo()};\n",
    "\n",
    "for (BasicInfo info: infos){\n",
    "    System.out.println(\"-------------------------------------\");\n",
    "    System.out.println(\"Code: \" + info.getIndicator());\n",
    "    System.out.println(\"English name: \" + info.getLangEnglishName());\n",
    "    System.out.println(\"Original name: \" + info.getLangName());\n",
    "}\n"
   ]
  },
  {
   "cell_type": "markdown",
   "id": "bfadd33b",
   "metadata": {},
   "source": [
    "## I. Text normalization"
   ]
  },
  {
   "cell_type": "code",
   "execution_count": 4,
   "id": "964c1c3d",
   "metadata": {},
   "outputs": [
    {
     "name": "stdout",
     "output_type": "stream",
     "text": [
      "سنتدرب على الرماية.\n",
      "سنتدرب على الرماية.\n"
     ]
    }
   ],
   "source": [
    "%%java\n",
    "// Arabic text normalization : delete diacretics and line breaks\n",
    "import kariminf.langpi.basic.arabic.ArNormalizer;\n",
    "import kariminf.langpi.basic.Normalizer;\n",
    "\n",
    "String input = \"سُنًتَدِرب على الرماية.\";\n",
    "System.out.println(ArNormalizer.removeDiacritics(input));\n",
    "\n",
    "Normalizer norm = new ArNormalizer();\n",
    "System.out.println(norm.normalize(input));"
   ]
  },
  {
   "cell_type": "code",
   "execution_count": 5,
   "id": "c2edd2c1",
   "metadata": {},
   "outputs": [
    {
     "name": "stdout",
     "output_type": "stream",
     "text": [
      "This is a text with return line.\n"
     ]
    }
   ],
   "source": [
    "%%java\n",
    "// English normalization: delete line breaks and multiple spaces\n",
    "import kariminf.langpi.basic.english.EnNormalizer;\n",
    "import kariminf.langpi.basic.Normalizer;\n",
    "\n",
    "String input = \"This             is a text\\n with return line.\";\n",
    "Normalizer norm = new EnNormalizer();\n",
    "System.out.println(norm.normalize(input));"
   ]
  },
  {
   "cell_type": "markdown",
   "id": "ae6633d9",
   "metadata": {},
   "source": [
    "## II. Text segmentation"
   ]
  },
  {
   "cell_type": "code",
   "execution_count": 6,
   "id": "750de55a",
   "metadata": {},
   "outputs": [
    {
     "name": "stdout",
     "output_type": "stream",
     "text": [
      "[أنا ذاهب إلى السوق., هل تريد أن أحضر لك شيء ما؟, هكذا إذن!, نلتقي بعد أن أعود.]\n",
      "[أنا, ذاهب, إلى, السوق, هل, تريد, أن, أحضر, لك, شيء, ما, هكذا, إذن, نلتقي, بعد, أن, أعود]\n"
     ]
    }
   ],
   "source": [
    "%%java\n",
    "// Arabic example : RegEx based\n",
    "import kariminf.langpi.basic.arabic.ArSegmenter;\n",
    "import kariminf.langpi.basic.Segmenter;\n",
    "\n",
    "String in = \"أنا ذاهب إلى السوق. هل تريد أن أحضر لك شيء ما؟ هكذا إذن! نلتقي بعد أن أعود.\";\n",
    "Segmenter seg = new ArSegmenter();\n",
    "System.out.println(seg.splitToSentences(in));\n",
    "System.out.println(seg.segmentWords(in));"
   ]
  },
  {
   "cell_type": "code",
   "execution_count": 7,
   "id": "e77f1258",
   "metadata": {},
   "outputs": [
    {
     "name": "stdout",
     "output_type": "stream",
     "text": [
      "[This is a sentence., It contains some words from Dr. Who.]\n",
      "[This, is, a, sentence, It, contains, some, words, from, Dr., Who]\n"
     ]
    }
   ],
   "source": [
    "%%java\n",
    "//English example: OpenNLP based\n",
    "import kariminf.langpi.basic.english.EnSegmenter;\n",
    "import kariminf.langpi.basic.Segmenter;\n",
    "\n",
    "String in = \"This is a sentence. It contains some words from Dr. Who.\";\n",
    "Segmenter seg = new EnSegmenter();\n",
    "System.out.println(seg.splitToSentences(in));\n",
    "System.out.println(seg.segmentWords(in));"
   ]
  },
  {
   "cell_type": "markdown",
   "id": "2985fea7",
   "metadata": {},
   "source": [
    "## III. StopWords Filtering"
   ]
  },
  {
   "cell_type": "code",
   "execution_count": 8,
   "id": "7f8f9db8",
   "metadata": {},
   "outputs": [
    {
     "name": "stdout",
     "output_type": "stream",
     "text": [
      "[سأذهب, المحل, المجاور, أعود, للعمل, جديد]\n"
     ]
    }
   ],
   "source": [
    "%%java\n",
    "import kariminf.langpi.basic.arabic.ArSWEliminator;\n",
    "import kariminf.langpi.basic.SWEliminator;\n",
    "import java.util.*;\n",
    "\n",
    "List<String> tstList = new ArrayList<String>();\n",
    "tstList.add(\"أنا\");\n",
    "tstList.add(\"سأذهب\");\n",
    "tstList.add(\"إلى\");\n",
    "tstList.add(\"المحل\");\n",
    "tstList.add(\"المجاور\");\n",
    "tstList.add(\"ثم\");\n",
    "tstList.add(\"أعود\");\n",
    "tstList.add(\"بعد\");\n",
    "tstList.add(\"ذلك\");\n",
    "tstList.add(\"للعمل\");\n",
    "tstList.add(\"من\");\n",
    "tstList.add(\"جديد\");\n",
    "\n",
    "SWEliminator eliminator = new ArSWEliminator();\n",
    "eliminator.deleteSW(tstList);\n",
    "\n",
    "System.out.println(tstList);"
   ]
  },
  {
   "cell_type": "markdown",
   "id": "a614f9ee",
   "metadata": {},
   "source": [
    "## IV. Text stemming"
   ]
  },
  {
   "cell_type": "code",
   "execution_count": 9,
   "id": "f2898f8f",
   "metadata": {},
   "outputs": [
    {
     "name": "stdout",
     "output_type": "stream",
     "text": [
      "تستعمل\n",
      "[تستعمل, المعلوماتية, العليا, للإعلام]\n",
      "[تستعمل, علم, علا, علم]\n"
     ]
    }
   ],
   "source": [
    "import kariminf.langpi.basic.arabic.ArStemmer;\n",
    "import kariminf.langpi.basic.Stemmer;\n",
    "\n",
    "ArStemmer Stemmer=new ArStemmer();\n",
    "String ArabicWord=\"تستعمل\";\n",
    "List<String> lst = new ArrayList<String>();\n",
    "lst.add(\"تستعمل\");\n",
    "lst.add(\"المعلوماتية\");\n",
    "lst.add(\"العليا\");\n",
    "lst.add(\"للإعلام\");\n",
    "\n",
    "System.out.println(Stemmer.stemWord(ArabicWord));\n",
    "System.out.println(lst);\n",
    "lst = Stemmer.stemListWords(lst);\n",
    "System.out.println(lst);"
   ]
  },
  {
   "cell_type": "code",
   "execution_count": null,
   "id": "87cc411a",
   "metadata": {},
   "outputs": [],
   "source": []
  }
 ],
 "metadata": {
  "kernelspec": {
   "display_name": "Ganymede 2.1.2 (Java 19)",
   "language": "java",
   "name": "ganymede-2.1.2-java-19"
  },
  "language_info": {
   "file_extension": ".java",
   "mimetype": "text/x-java",
   "name": "java",
   "version": "11"
  }
 },
 "nbformat": 4,
 "nbformat_minor": 5
}
